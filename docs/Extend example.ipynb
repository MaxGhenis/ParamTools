{
 "cells": [
  {
   "cell_type": "code",
   "execution_count": 2,
   "metadata": {},
   "outputs": [
    {
     "data": {
      "text/plain": [
       "array([[ 6350., 12700.],\n",
       "       [ 6350., 12700.],\n",
       "       [ 6350., 12700.],\n",
       "       [ 6350., 12700.],\n",
       "       [ 6350., 12700.],\n",
       "       [12000., 24000.],\n",
       "       [12000., 24000.],\n",
       "       [12000., 24000.],\n",
       "       [12000., 24000.],\n",
       "       [12000., 24000.],\n",
       "       [12000., 24000.],\n",
       "       [12000., 24000.],\n",
       "       [12000., 24000.],\n",
       "       [ 7685., 15369.],\n",
       "       [ 7685., 15369.]])"
      ]
     },
     "execution_count": 2,
     "metadata": {},
     "output_type": "execute_result"
    }
   ],
   "source": [
    "import paramtools\n",
    "\n",
    "\n",
    "class TaxParams(paramtools.Parameters):\n",
    "    defaults = {\n",
    "        \"schema\": {\n",
    "            \"labels\": {\n",
    "                \"year\": {\n",
    "                    \"type\": \"int\",\n",
    "                    \"validators\": {\"range\": {\"min\": 2013, \"max\": 2027}}\n",
    "                },\n",
    "                \"marital_status\": {\n",
    "                    \"type\": \"str\",\n",
    "                    \"validators\": {\"choice\": {\"choices\": [\"single\", \"joint\"]}}\n",
    "                },\n",
    "            }\n",
    "        },\n",
    "        \"standard_deduction\": {\n",
    "            \"title\": \"Standard deduction amount\",\n",
    "            \"description\": \"Amount filing unit can use as a standard deduction.\",\n",
    "            \"type\": \"float\",\n",
    "            \"value\": [\n",
    "                {\"year\": 2017, \"marital_status\": \"single\", \"value\": 6350},\n",
    "                {\"year\": 2017, \"marital_status\": \"joint\", \"value\": 12700},\n",
    "                {\"year\": 2018, \"marital_status\": \"single\", \"value\": 12000},\n",
    "                {\"year\": 2018, \"marital_status\": \"joint\", \"value\": 24000},\n",
    "                {\"year\": 2026, \"marital_status\": \"single\", \"value\": 7685},\n",
    "                {\"year\": 2026, \"marital_status\": \"joint\", \"value\": 15369}],\n",
    "            \"validators\": {\n",
    "                \"range\": {\n",
    "                    \"min\": 0,\n",
    "                    \"max\": 9e+99\n",
    "                }\n",
    "            }\n",
    "        },\n",
    "    }\n",
    "\n",
    "    label_to_extend = \"year\"\n",
    "    array_first = True\n",
    "\n",
    "params = TaxParams()\n",
    "params.standard_deduction"
   ]
  },
  {
   "cell_type": "code",
   "execution_count": 2,
   "metadata": {},
   "outputs": [
    {
     "data": {
      "text/plain": [
       "array([[ 6350., 12700.],\n",
       "       [ 6350., 12700.],\n",
       "       [ 6350., 12700.],\n",
       "       [ 6350., 12700.],\n",
       "       [10000., 10000.],\n",
       "       [10000., 10000.],\n",
       "       [10000., 10000.],\n",
       "       [15000., 10000.],\n",
       "       [15000., 20000.],\n",
       "       [15000., 20000.],\n",
       "       [15000., 20000.],\n",
       "       [15000., 20000.],\n",
       "       [15000., 20000.],\n",
       "       [15000., 20000.],\n",
       "       [15000., 20000.]])"
      ]
     },
     "execution_count": 2,
     "metadata": {},
     "output_type": "execute_result"
    }
   ],
   "source": [
    "params.adjust(\n",
    "    {\n",
    "        \"standard_deduction\": [\n",
    "            {\"year\": 2017, \"value\": 10000},\n",
    "            {\"year\": 2020, \"marital_status\": \"single\", \"value\": 15000},\n",
    "            {\"year\": 2021, \"marital_status\": \"joint\", \"value\": 20000}\n",
    "        ]\n",
    "    }\n",
    ")\n",
    "\n",
    "params.standard_deduction"
   ]
  },
  {
   "cell_type": "code",
   "execution_count": 3,
   "metadata": {},
   "outputs": [
    {
     "data": {
      "text/plain": [
       "array([[ 6350., 12700.],\n",
       "       [ 6350., 12700.],\n",
       "       [ 6350., 12700.],\n",
       "       [ 6350., 12700.],\n",
       "       [10000., 10000.],\n",
       "       [12000., 24000.],\n",
       "       [12000., 24000.],\n",
       "       [15000., 24000.],\n",
       "       [15000., 20000.],\n",
       "       [15000., 20000.],\n",
       "       [15000., 20000.],\n",
       "       [15000., 20000.],\n",
       "       [15000., 20000.],\n",
       "       [ 7685., 15369.],\n",
       "       [ 7685., 15369.]])"
      ]
     },
     "execution_count": 3,
     "metadata": {},
     "output_type": "execute_result"
    }
   ],
   "source": [
    "params = TaxParams()\n",
    "params.adjust(\n",
    "    {\n",
    "        \"standard_deduction\": [\n",
    "            {\"year\": 2017, \"value\": 10000},\n",
    "            {\"year\": 2020, \"marital_status\": \"single\", \"value\": 15000},\n",
    "            {\"year\": 2021, \"marital_status\": \"joint\", \"value\": 20000}\n",
    "        ]\n",
    "    },\n",
    "    clobber=False,\n",
    ")\n",
    "\n",
    "params.standard_deduction"
   ]
  },
  {
   "cell_type": "code",
   "execution_count": 4,
   "metadata": {},
   "outputs": [
    {
     "data": {
      "text/plain": [
       "array([[ 6074.92, 12149.84],\n",
       "       [ 6164.83, 12329.66],\n",
       "       [ 6262.85, 12525.7 ],\n",
       "       [ 6270.37, 12540.73],\n",
       "       [ 6350.  , 12700.  ],\n",
       "       [12000.  , 24000.  ],\n",
       "       [12268.8 , 24537.6 ],\n",
       "       [12497.  , 24994.  ],\n",
       "       [12788.18, 25576.36],\n",
       "       [13081.03, 26162.06],\n",
       "       [13379.28, 26758.55],\n",
       "       [13674.96, 27349.91],\n",
       "       [13963.5 , 27926.99],\n",
       "       [ 7685.  , 15369.  ],\n",
       "       [ 7847.15, 15693.29]])"
      ]
     },
     "execution_count": 4,
     "metadata": {},
     "output_type": "execute_result"
    }
   ],
   "source": [
    "import paramtools\n",
    "\n",
    "\n",
    "class TaxParams(paramtools.Parameters):\n",
    "    defaults = {\n",
    "        \"schema\": {\n",
    "            \"labels\": {\n",
    "                \"year\": {\n",
    "                    \"type\": \"int\",\n",
    "                    \"validators\": {\"range\": {\"min\": 2013, \"max\": 2027}}\n",
    "                },\n",
    "                \"marital_status\": {\n",
    "                    \"type\": \"str\",\n",
    "                    \"validators\": {\"choice\": {\"choices\": [\"single\", \"joint\"]}}\n",
    "                },\n",
    "            }\n",
    "        },\n",
    "        \"standard_deduction\": {\n",
    "            \"title\": \"Standard deduction amount\",\n",
    "            \"description\": \"Amount filing unit can use as a standard deduction.\",\n",
    "            \"type\": \"float\",\n",
    "\n",
    "            # Set indexed to True to extend standard_deduction with the built-in\n",
    "            # extension logic.\n",
    "            \"indexed\": True,\n",
    "\n",
    "            \"value\": [\n",
    "                {\"year\": 2017, \"marital_status\": \"single\", \"value\": 6350},\n",
    "                {\"year\": 2017, \"marital_status\": \"joint\", \"value\": 12700},\n",
    "                {\"year\": 2018, \"marital_status\": \"single\", \"value\": 12000},\n",
    "                {\"year\": 2018, \"marital_status\": \"joint\", \"value\": 24000},\n",
    "                {\"year\": 2026, \"marital_status\": \"single\", \"value\": 7685},\n",
    "                {\"year\": 2026, \"marital_status\": \"joint\", \"value\": 15369}],\n",
    "            \"validators\": {\n",
    "                \"range\": {\n",
    "                    \"min\": 0,\n",
    "                    \"max\": 9e+99\n",
    "                }\n",
    "            }\n",
    "        },\n",
    "    }\n",
    "    array_first = True\n",
    "    label_to_extend = \"year\"\n",
    "    # Activate use of extend_func method.\n",
    "    uses_extend_func = True\n",
    "    # inflation rates from Tax-Calculator v2.5.0\n",
    "    index_rates = {\n",
    "        2013: 0.0148,\n",
    "        2014: 0.0159,\n",
    "        2015: 0.0012,\n",
    "        2016: 0.0127,\n",
    "        2017: 0.0187,\n",
    "        2018: 0.0224,\n",
    "        2019: 0.0186,\n",
    "        2020: 0.0233,\n",
    "        2021: 0.0229,\n",
    "        2022: 0.0228,\n",
    "        2023: 0.0221,\n",
    "        2024: 0.0211,\n",
    "        2025: 0.0209,\n",
    "        2026: 0.0211,\n",
    "        2027: 0.0208,\n",
    "        2028: 0.021,\n",
    "        2029: 0.021\n",
    "    }\n",
    "\n",
    "\n",
    "params = TaxParams()\n",
    "params.standard_deduction"
   ]
  },
  {
   "cell_type": "code",
   "execution_count": 5,
   "metadata": {},
   "outputs": [
    {
     "data": {
      "text/plain": [
       "array([[ 6074.92, 12149.84],\n",
       "       [ 6164.83, 12329.66],\n",
       "       [ 6262.85, 12525.7 ],\n",
       "       [ 6270.37, 12540.73],\n",
       "       [10000.  , 10000.  ],\n",
       "       [10187.  , 10187.  ],\n",
       "       [10415.19, 10415.19],\n",
       "       [15000.  , 10608.91],\n",
       "       [15349.5 , 20000.  ],\n",
       "       [15701.  , 20458.  ],\n",
       "       [16058.98, 20924.44],\n",
       "       [16413.88, 21386.87],\n",
       "       [16760.21, 21838.13],\n",
       "       [17110.5 , 22294.55],\n",
       "       [17471.53, 22764.97]])"
      ]
     },
     "execution_count": 5,
     "metadata": {},
     "output_type": "execute_result"
    }
   ],
   "source": [
    "params.adjust(\n",
    "    {\n",
    "        \"standard_deduction\": [\n",
    "            {\"year\": 2017, \"value\": 10000},\n",
    "            {\"year\": 2020, \"marital_status\": \"single\", \"value\": 15000},\n",
    "            {\"year\": 2021, \"marital_status\": \"joint\", \"value\": 20000}\n",
    "        ]\n",
    "    }\n",
    ")\n",
    "\n",
    "params.standard_deduction"
   ]
  },
  {
   "cell_type": "code",
   "execution_count": 15,
   "metadata": {},
   "outputs": [
    {
     "data": {
      "text/plain": [
       "array([[ 5783.57, 11567.15],\n",
       "       [ 5941.46, 11882.93],\n",
       "       [ 6110.2 , 12220.41],\n",
       "       [ 6193.91, 12387.83],\n",
       "       [ 6350.  , 12700.  ],\n",
       "       [12000.  , 24000.  ],\n",
       "       [12418.8 , 24837.6 ],\n",
       "       [12805.02, 25610.05],\n",
       "       [13263.44, 26526.89],\n",
       "       [13732.97, 27465.94],\n",
       "       [14217.74, 28435.49],\n",
       "       [14709.67, 29419.36],\n",
       "       [15203.91, 30407.85],\n",
       "       [ 7685.  , 15369.  ],\n",
       "       [ 7943.22, 15885.4 ]])"
      ]
     },
     "execution_count": 15,
     "metadata": {},
     "output_type": "execute_result"
    }
   ],
   "source": [
    "params = TaxParams()\n",
    "\n",
    "offset = 0.0025\n",
    "for year, rate in params.index_rates.items():\n",
    "    params.index_rates[year] = rate + offset\n",
    "\n",
    "automatically_added = params.select_eq(\n",
    "    \"standard_deduction\", strict=True, _auto=True\n",
    ")\n",
    "\n",
    "params.delete(\n",
    "    {\n",
    "        \"standard_deduction\": automatically_added\n",
    "    }\n",
    ")\n",
    "\n",
    "params.standard_deduction"
   ]
  },
  {
   "cell_type": "code",
   "execution_count": 14,
   "metadata": {},
   "outputs": [
    {
     "data": {
      "text/plain": [
       "[{'_auto': True, 'marital_status': 'single', 'year': 2013, 'value': 5840.42},\n",
       " {'_auto': True, 'marital_status': 'single', 'year': 2014, 'value': 5985.26},\n",
       " {'_auto': True, 'marital_status': 'single', 'year': 2015, 'value': 6140.28},\n",
       " {'_auto': True, 'marital_status': 'single', 'year': 2016, 'value': 6209.05},\n",
       " {'_auto': True, 'marital_status': 'single', 'year': 2019, 'value': 12388.8},\n",
       " {'_auto': True, 'marital_status': 'single', 'year': 2020, 'value': 12743.12},\n",
       " {'_auto': True, 'marital_status': 'single', 'year': 2021, 'value': 13167.47},\n",
       " {'_auto': True, 'marital_status': 'single', 'year': 2022, 'value': 13600.68},\n",
       " {'_auto': True, 'marital_status': 'single', 'year': 2023, 'value': 14046.78},\n",
       " {'_auto': True, 'marital_status': 'single', 'year': 2024, 'value': 14497.68},\n",
       " {'_auto': True, 'marital_status': 'single', 'year': 2025, 'value': 14948.56},\n",
       " {'_auto': True, 'marital_status': 'single', 'year': 2027, 'value': 7924.0},\n",
       " {'_auto': True, 'marital_status': 'joint', 'year': 2013, 'value': 11680.85},\n",
       " {'_auto': True, 'marital_status': 'joint', 'year': 2014, 'value': 11970.54},\n",
       " {'_auto': True, 'marital_status': 'joint', 'year': 2015, 'value': 12280.58},\n",
       " {'_auto': True, 'marital_status': 'joint', 'year': 2016, 'value': 12418.12},\n",
       " {'_auto': True, 'marital_status': 'joint', 'year': 2019, 'value': 24777.6},\n",
       " {'_auto': True, 'marital_status': 'joint', 'year': 2020, 'value': 25486.24},\n",
       " {'_auto': True, 'marital_status': 'joint', 'year': 2021, 'value': 26334.93},\n",
       " {'_auto': True, 'marital_status': 'joint', 'year': 2022, 'value': 27201.35},\n",
       " {'_auto': True, 'marital_status': 'joint', 'year': 2023, 'value': 28093.55},\n",
       " {'_auto': True, 'marital_status': 'joint', 'year': 2024, 'value': 28995.35},\n",
       " {'_auto': True, 'marital_status': 'joint', 'year': 2025, 'value': 29897.11},\n",
       " {'_auto': True, 'marital_status': 'joint', 'year': 2027, 'value': 15846.98}]"
      ]
     },
     "execution_count": 14,
     "metadata": {},
     "output_type": "execute_result"
    }
   ],
   "source": [
    "params = TaxParams()\n",
    "\n",
    "params.select_eq(\n",
    "    \"standard_deduction\", strict=True, _auto=True\n",
    ")"
   ]
  },
  {
   "cell_type": "code",
   "execution_count": null,
   "metadata": {},
   "outputs": [],
   "source": []
  },
  {
   "cell_type": "code",
   "execution_count": null,
   "metadata": {},
   "outputs": [],
   "source": []
  }
 ],
 "metadata": {
  "kernelspec": {
   "display_name": "Python 3",
   "language": "python",
   "name": "python3"
  },
  "language_info": {
   "codemirror_mode": {
    "name": "ipython",
    "version": 3
   },
   "file_extension": ".py",
   "mimetype": "text/x-python",
   "name": "python",
   "nbconvert_exporter": "python",
   "pygments_lexer": "ipython3",
   "version": "3.8.0"
  }
 },
 "nbformat": 4,
 "nbformat_minor": 2
}
