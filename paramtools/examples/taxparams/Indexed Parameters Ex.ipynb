{
 "cells": [
  {
   "cell_type": "markdown",
   "metadata": {},
   "source": [
    "# Parameter Indexing\n",
    "\n",
    "For the foreseeable future, parameter indexing is outside of ParamTools' scope. However, indexed parameters are an important part of many modeling projects. Let's take a look at how one might implement indexed parameters with ParamTools."
   ]
  },
  {
   "cell_type": "markdown",
   "metadata": {},
   "source": [
    "Setup\n",
    "--------------------------\n",
    "\n",
    "The TaxParams parameters will be used to demonstrate parameter indexing. These parameters are based directly on the Tax-Calculator policy parameters. Tax-Calculator does really serious parameter indexing. It blows up values using inflation rates and wage growth rates. This tutorial demonstrates how you can replicate that same level of parameter indexing with ParamTools.\n",
    "\n",
    "The approach for this tutorial is to build a `IndexedParameters` class on top of `paramtools.Parameters`. This class can then be used by projects that require parameter indexing.\n",
    "\n",
    "Before we get started, let's make sure that the TaxParams can be loaded."
   ]
  },
  {
   "cell_type": "code",
   "execution_count": 20,
   "metadata": {},
   "outputs": [
    {
     "name": "stdout",
     "output_type": "stream",
     "text": [
      "EITC celing max year:  2018 \n",
      "\n",
      "EITC ceiling ceiling as dict:  [{'year': 2013, 'value': 487.0, 'EIC': '0kids'}, {'year': 2013, 'value': 3250.0, 'EIC': '1kid'}, {'year': 2013, 'value': 5372.0, 'EIC': '2kids'}, {'year': 2013, 'value': 6044.0, 'EIC': '3+kids'}, {'year': 2014, 'value': 496.0, 'EIC': '0kids'}, {'year': 2014, 'value': 3305.0, 'EIC': '1kid'}, {'year': 2014, 'value': 5460.0, 'EIC': '2kids'}, {'year': 2014, 'value': 6143.0, 'EIC': '3+kids'}, {'year': 2015, 'value': 503.0, 'EIC': '0kids'}, {'year': 2015, 'value': 3359.0, 'EIC': '1kid'}, {'year': 2015, 'value': 5548.0, 'EIC': '2kids'}, {'year': 2015, 'value': 6242.0, 'EIC': '3+kids'}, {'year': 2016, 'value': 506.0, 'EIC': '0kids'}, {'year': 2016, 'value': 3373.0, 'EIC': '1kid'}, {'year': 2016, 'value': 5572.0, 'EIC': '2kids'}, {'year': 2016, 'value': 6269.0, 'EIC': '3+kids'}, {'year': 2017, 'value': 510.0, 'EIC': '0kids'}, {'year': 2017, 'value': 3400.0, 'EIC': '1kid'}, {'year': 2017, 'value': 5616.0, 'EIC': '2kids'}, {'year': 2017, 'value': 6318.0, 'EIC': '3+kids'}, {'year': 2018, 'value': 519.0, 'EIC': '0kids'}, {'year': 2018, 'value': 3461.0, 'EIC': '1kid'}, {'year': 2018, 'value': 5716.0, 'EIC': '2kids'}, {'year': 2018, 'value': 6431.0, 'EIC': '3+kids'}]\n"
     ]
    }
   ],
   "source": [
    "# first define the compatible data custom field.\n",
    "from marshmallow import Schema, fields\n",
    "\n",
    "import paramtools\n",
    "\n",
    "class CompatibleDataSchema(Schema):\n",
    "    \"\"\"\n",
    "    Schema for Compatible data object\n",
    "    {\n",
    "        \"compatible_data\": {\"data1\": bool, \"data2\": bool, ...}\n",
    "    }\n",
    "    \"\"\"\n",
    "\n",
    "    puf = fields.Boolean()\n",
    "    cps = fields.Boolean()\n",
    "\n",
    "class TaxParams(paramtools.Parameters):\n",
    "    # You need to be in the paramtools/examples/taxparams directory!\n",
    "    schema = \"schema.json\"\n",
    "    defaults = \"defaults.json\"\n",
    "    field_map = {\"compatible_data\": fields.Nested(CompatibleDataSchema())}\n",
    "\n",
    "params = TaxParams()\n",
    "print(\"EITC celing max year: \", max(map(lambda x: x[\"year\"], params._EITC_c)), \"\\n\")\n",
    "print(\"EITC ceiling ceiling as dict: \", params._EITC_c)"
   ]
  },
  {
   "cell_type": "markdown",
   "metadata": {},
   "source": [
    "Extend Parameters\n",
    "---------------------\n",
    "\n",
    "To get started, the ability to extend parameters through a given year needs to be added to ParamTools. This is done by finding the maximum specifed year for each parameter and duplicating each value object defined at this maximum year for the remaining years. For example, the maximum defined year for `_EITC_c` is 2018. There are four values defined in 2018. These four values will be extended for the remaining years, 2019 to 2028.\n",
    "\n",
    "```json\n",
    "[\n",
    "    {'year': 2018, 'value': 519.0, 'EIC': '0kids'}, \n",
    "    {'year': 2018, 'value': 3461.0, 'EIC': '1kid'}, \n",
    "    {'year': 2018, 'value': 5716.0, 'EIC': '2kids'}, \n",
    "    {'year': 2018, 'value': 6431.0, 'EIC': '3+kids'}\n",
    "]\n",
    "```"
   ]
  },
  {
   "cell_type": "code",
   "execution_count": 35,
   "metadata": {},
   "outputs": [
    {
     "name": "stdout",
     "output_type": "stream",
     "text": [
      "EITC celing max year:  2028 \n",
      "\n"
     ]
    }
   ],
   "source": [
    "from collections import defaultdict\n",
    "\n",
    "import paramtools\n",
    "\n",
    "class IndexedParameters(paramtools.Parameters):\n",
    "    \n",
    "    def extend(self):\n",
    "        \"\"\"\n",
    "        Guarantee that all parameters are defined for each year\n",
    "        from start year to end year.\n",
    "        \"\"\"\n",
    "        max_allowed_year = max(self._stateless_dim_mesh[\"year\"])\n",
    "        adjustment = defaultdict(list)\n",
    "        for param, data in self._data.items():\n",
    "            # Assume they are sorted by year in ascending order.\n",
    "            max_year = data[\"value\"][-1][\"year\"]\n",
    "            if max_year == max_allowed_year:\n",
    "                continue\n",
    "            value_objects = self._get(param, True, year=max_year)\n",
    "            while max_year < max_allowed_year:\n",
    "                max_year += 1\n",
    "                for value_object in value_objects:\n",
    "                    adjustment[param].append(dict(value_object, **{\"year\": max_year}))\n",
    "        self.adjust(adjustment)\n",
    "\n",
    "\n",
    "class TaxParams(IndexedParameters):\n",
    "    schema = \"schema.json\"\n",
    "    defaults = \"defaults.json\"\n",
    "    field_map = {\"compatible_data\": fields.Nested(CompatibleDataSchema())}\n",
    "\n",
    "params = TaxParams()\n",
    "params.extend()\n",
    "print(\"EITC celing max year: \", max(map(lambda x: x[\"year\"], params._EITC_c)), \"\\n\")\n"
   ]
  },
  {
   "cell_type": "markdown",
   "metadata": {},
   "source": [
    "Since all parameters have been extended across the year axis, we can activate `array_first` mode. This means that all parameter values will be available as arrays instead of a list of dictionaries, or [value-objects][1]. \n",
    "\n",
    "\n",
    "[1]: https://paramtools.readthedocs.io/en/latest/spec.html#value-object"
   ]
  },
  {
   "cell_type": "code",
   "execution_count": 34,
   "metadata": {},
   "outputs": [
    {
     "name": "stdout",
     "output_type": "stream",
     "text": [
      "EITC celing as array:  [[ 487. 3250. 5372. 6044.]\n",
      " [ 496. 3305. 5460. 6143.]\n",
      " [ 503. 3359. 5548. 6242.]\n",
      " [ 506. 3373. 5572. 6269.]\n",
      " [ 510. 3400. 5616. 6318.]\n",
      " [ 519. 3461. 5716. 6431.]\n",
      " [ 519. 3461. 5716. 6431.]\n",
      " [ 519. 3461. 5716. 6431.]\n",
      " [ 519. 3461. 5716. 6431.]\n",
      " [ 519. 3461. 5716. 6431.]\n",
      " [ 519. 3461. 5716. 6431.]\n",
      " [ 519. 3461. 5716. 6431.]\n",
      " [ 519. 3461. 5716. 6431.]\n",
      " [ 519. 3461. 5716. 6431.]\n",
      " [ 519. 3461. 5716. 6431.]\n",
      " [ 519. 3461. 5716. 6431.]]\n"
     ]
    }
   ],
   "source": [
    "# all parameters can now be converted to arrays.\n",
    "params.array_first=True\n",
    "params.set_state()\n",
    "print(\"EITC celing as array: \", params._EITC_c)\n"
   ]
  },
  {
   "cell_type": "markdown",
   "metadata": {},
   "source": [
    "Note that 519, 3461, 5716, and 6431 have been set as the default value for year 2018 to 2028."
   ]
  },
  {
   "cell_type": "markdown",
   "metadata": {},
   "source": [
    "Index Parameters\n",
    "-------------------------------\n",
    "\n",
    "\n",
    "The previous example shows how to extend parameter values along a given axis, like \"year\". However, what's really going on is that they are just repeated until the maximum year is reached. Now, it's time to index them at some specified rate.\n",
    "\n",
    "To \"grow\" a parameter forward a year, we need to multiply it by one plus the rate at which it is expected to grow or its recorded growth rate. "
   ]
  }
 ],
 "metadata": {
  "kernelspec": {
   "display_name": "Python (paramtools-dev)",
   "language": "python",
   "name": "paramtools-dev"
  },
  "language_info": {
   "codemirror_mode": {
    "name": "ipython",
    "version": 3
   },
   "file_extension": ".py",
   "mimetype": "text/x-python",
   "name": "python",
   "nbconvert_exporter": "python",
   "pygments_lexer": "ipython3",
   "version": "3.7.2"
  }
 },
 "nbformat": 4,
 "nbformat_minor": 2
}
